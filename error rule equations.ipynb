{
 "cells": [
  {
   "cell_type": "code",
   "execution_count": 9,
   "id": "1cb93a18",
   "metadata": {},
   "outputs": [
    {
     "name": "stdout",
     "output_type": "stream",
     "text": [
      "0.022360679774997897\n"
     ]
    }
   ],
   "source": [
    "import numpy as np\n",
    "def rule3(dA, dB):\n",
    "    dQ = np.sqrt(dA**2 + dB**2)\n",
    "    return dQ\n",
    "\n",
    "dx1 = .01\n",
    "dx2 = .02\n",
    "\n",
    "dx = rule3(dx1,dx2)\n",
    "print('dx =',dx)"
   ]
  },
  {
   "cell_type": "code",
   "execution_count": 10,
   "id": "a8121c1b",
   "metadata": {},
   "outputs": [
    {
     "name": "stdout",
     "output_type": "stream",
     "text": [
      "[ 3 15 18] [ 1 25 36]\n",
      "4.0 1.2472191289246473\n"
     ]
    }
   ],
   "source": [
    "x = np.array ([1,5,6])\n",
    "\n",
    "y = x*3\n",
    "ysq = x**2\n",
    "print (y,ysq)\n",
    "\n",
    "avg_x = np.average(x)\n",
    "err_x = np.std(x)/np.sqrt(3)\n",
    "print(avg_x, err_x)"
   ]
  },
  {
   "cell_type": "markdown",
   "id": "1de97a02",
   "metadata": {},
   "source": [
    "this is a notebook"
   ]
  },
  {
   "cell_type": "markdown",
   "id": "6d75dc3b",
   "metadata": {},
   "source": [
    "$F=g\\delta m$"
   ]
  },
  {
   "cell_type": "markdown",
   "id": "403c3eaa",
   "metadata": {},
   "source": [
    "$\\delta Q = \\sqrt{(\\delta A)^2 + (\\delta B)^2}$"
   ]
  },
  {
   "cell_type": "markdown",
   "id": "c46405a8",
   "metadata": {},
   "source": [
    "$W = \\frac{12x}{2x^2-25x}$"
   ]
  },
  {
   "cell_type": "code",
   "execution_count": 13,
   "id": "207b5836",
   "metadata": {},
   "outputs": [
    {
     "name": "stdout",
     "output_type": "stream",
     "text": [
      "0.01717960677340692\n"
     ]
    }
   ],
   "source": [
    "def rule4(dA, dB, A, B, M, N):\n",
    "    dQ = np.sqrt((M*dA/A)**2 + (N*dB/B)**2)\n",
    "    return dQ\n",
    "\n",
    "n = 1\n",
    "m = 1\n",
    "dx1= .2\n",
    "dx2=.1\n",
    "x1=12\n",
    "x2=24\n",
    "\n",
    "dx = rule4(dx1, dx2, x1, x2, n, m)\n",
    "print('dx =',dx)"
   ]
  },
  {
   "cell_type": "code",
   "execution_count": 17,
   "id": "2c0bd28f",
   "metadata": {},
   "outputs": [
    {
     "name": "stdout",
     "output_type": "stream",
     "text": [
      "dx = 0.12\n"
     ]
    }
   ],
   "source": [
    "def rule1(dA, c):\n",
    "    dQ = (c * dA)\n",
    "    return dQ\n",
    "dx1 = .01\n",
    "con= 12\n",
    "\n",
    "dx = rule1(dx1, con)\n",
    "print('dx =',dx)"
   ]
  },
  {
   "cell_type": "code",
   "execution_count": 19,
   "id": "bc76cb85",
   "metadata": {},
   "outputs": [
    {
     "name": "stdout",
     "output_type": "stream",
     "text": [
      "dx = 6220.8\n"
     ]
    }
   ],
   "source": [
    "def rule2(m, c, A, dA):\n",
    "    dQ = (c * m * A**(m-1))*dA\n",
    "    return dQ\n",
    "\n",
    "x1 = 12\n",
    "dx1 = .01\n",
    "num = 5\n",
    "con = 6\n",
    "\n",
    "dx = rule2(num, con, x1, dx1)\n",
    "print('dx =',dx)"
   ]
  },
  {
   "cell_type": "code",
   "execution_count": null,
   "id": "ac6dedfc",
   "metadata": {},
   "outputs": [],
   "source": [
    "def rule1(dA, c):\n",
    "    dQ = (c * dA)\n",
    "    return dQ\n",
    "dx1 = .01\n",
    "con= 12\n",
    "\n",
    "dx = rule1(dx1, con)\n",
    "print('dx =',dx)\n",
    "\n",
    "\n",
    "def rule2(m, c, A, dA):\n",
    "    dQ = (c * m * A**(m-1))*dA\n",
    "    return dQ\n",
    "\n",
    "x1 = 12\n",
    "dx1 = .01\n",
    "num = 5\n",
    "con = 6\n",
    "\n",
    "dx = rule2(num, con, x1, dx1)\n",
    "print('dx =',dx)\n",
    "\n",
    "\n",
    "import numpy as np\n",
    "def rule3(dA, dB):\n",
    "    dQ = np.sqrt(dA**2 + dB**2)\n",
    "    return dQ\n",
    "\n",
    "dx1 = .01\n",
    "dx2 = .02\n",
    "\n",
    "dx = rule3(dx1,dx2)\n",
    "print('dx =',dx)\n",
    "\n",
    "\n",
    "def rule4(dA, dB, A, B):\n",
    "    dQ = np.sqrt((dA/A)**2 + (dB/B)**2)\n",
    "    return dQ\n",
    "\n",
    "dx1= .2\n",
    "dx2=.1\n",
    "x1=12\n",
    "x2=24\n",
    "\n",
    "dx = rule4(dx1, dx2, x1, x2)\n",
    "print('dx =',dx)"
   ]
  },
  {
   "cell_type": "code",
   "execution_count": 21,
   "id": "b139d6b1",
   "metadata": {},
   "outputs": [
    {
     "name": "stdout",
     "output_type": "stream",
     "text": [
      "dx = 0.006009659392142002\n"
     ]
    }
   ],
   "source": [
    "def rule4(dA, dB, A, B, M, N):\n",
    "    dQ = np.sqrt((M*dA/A)**2 + (N*dB/B)**2)\n",
    "    return dQ\n",
    "\n",
    "n = 1\n",
    "m = 1\n",
    "dx1=.00696\n",
    "dx2=.005\n",
    "x1=2.1369\n",
    "x2=.99\n",
    "\n",
    "dx = rule4(dx1, dx2, x1, x2, n, m)\n",
    "print('dx =',dx)"
   ]
  },
  {
   "cell_type": "markdown",
   "id": "667b8511",
   "metadata": {},
   "source": [
    "This agrees with last weeks error for method 2"
   ]
  },
  {
   "cell_type": "code",
   "execution_count": 20,
   "id": "36b22279",
   "metadata": {},
   "outputs": [
    {
     "name": "stdout",
     "output_type": "stream",
     "text": [
      "The average value of x is  1.1166666666666667 and the error in the mean is 0.10363754503432018\n"
     ]
    }
   ],
   "source": [
    "x = np.array ([1.1, 1.3, 1.4, 0.9, 0.95, 1.05])\n",
    "\n",
    "\n",
    "avg_x = np.average(x)\n",
    "err_x = np.std(x)/np.sqrt(3)\n",
    "print(\"The average value of x is \", avg_x,\"and the error in the mean is\", err_x)"
   ]
  },
  {
   "cell_type": "markdown",
   "id": "a586e43b",
   "metadata": {},
   "source": [
    "# Rule 3"
   ]
  },
  {
   "cell_type": "markdown",
   "id": "a4d4d1a0",
   "metadata": {},
   "source": [
    "$\\delta Q = \\sqrt{(\\delta A)^2 + (\\delta B)^2}$"
   ]
  },
  {
   "cell_type": "markdown",
   "id": "492bdfba",
   "metadata": {},
   "source": [
    "# Error in method 2 to determine v"
   ]
  },
  {
   "cell_type": "markdown",
   "id": "6eb0d64d",
   "metadata": {},
   "source": [
    "$\\delta v_i = \\sqrt{(\\frac{\\delta h}{h})^2 + (\\frac{\\delta x}{x})^2}$"
   ]
  },
  {
   "cell_type": "code",
   "execution_count": null,
   "id": "73ca7924",
   "metadata": {},
   "outputs": [],
   "source": []
  }
 ],
 "metadata": {
  "kernelspec": {
   "display_name": "Python 3 (ipykernel)",
   "language": "python",
   "name": "python3"
  },
  "language_info": {
   "codemirror_mode": {
    "name": "ipython",
    "version": 3
   },
   "file_extension": ".py",
   "mimetype": "text/x-python",
   "name": "python",
   "nbconvert_exporter": "python",
   "pygments_lexer": "ipython3",
   "version": "3.9.12"
  }
 },
 "nbformat": 4,
 "nbformat_minor": 5
}
